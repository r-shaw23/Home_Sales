{
 "cells": [
  {
   "cell_type": "code",
   "execution_count": null,
   "id": "452acaaf-25bc-473c-83b7-0b1565f62cb7",
   "metadata": {
    "tags": []
   },
   "outputs": [],
   "source": [
    "!pip install findspark"
   ]
  },
  {
   "cell_type": "code",
   "execution_count": null,
   "id": "474a3813-f3d2-4f6f-9061-a325b704ea83",
   "metadata": {
    "tags": []
   },
   "outputs": [],
   "source": [
    "pip install pyspark\n"
   ]
  },
  {
   "cell_type": "code",
   "execution_count": 1,
   "id": "88bd9778-87ee-48d6-b6d8-388e4f7294de",
   "metadata": {
    "tags": []
   },
   "outputs": [],
   "source": [
    "import os\n",
    "\n",
    "# JAVA_HOME path\n",
    "os.environ['JAVA_HOME'] = 'C:\\\\Users\\\\rshaw\\\\Downloads\\\\jdk-11.0.22_windows-x64_bin'"
   ]
  },
  {
   "cell_type": "code",
   "execution_count": 2,
   "id": "8e7754d7-8491-4906-a34f-6a23f77a15cd",
   "metadata": {
    "tags": []
   },
   "outputs": [],
   "source": [
    "import os\n",
    "\n",
    "# SPARK_HOME path\n",
    "os.environ['SPARK_HOME'] = 'C:\\\\Users\\\\rshaw\\\\Downloads\\\\spark-3.5.1-bin-hadoop3\\\\spark-3.5.1-bin-hadoop3'\n",
    "\n",
    "import findspark\n",
    "findspark.init()\n"
   ]
  },
  {
   "cell_type": "code",
   "execution_count": null,
   "id": "ad4779a7-f66c-4462-a866-8937d9245e85",
   "metadata": {
    "tags": []
   },
   "outputs": [],
   "source": [
    "# Read CSV \n",
    "file_path = \"https://2u-data-curriculum-team.s3.amazonaws.com/dataviz-classroom/v1.2/22-big-data/home_sales_revised.csv\"\n",
    "home_sales_df = spark.read.csv(file_path, header=True, inferSchema=True)\n",
    "\n",
    "# Create table \"home_sales\"\n",
    "home_sales_df.createOrReplaceTempView(\"home_sales\")\n"
   ]
  },
  {
   "cell_type": "code",
   "execution_count": null,
   "id": "26274b13-933c-4771-b3b7-c488b87adbe1",
   "metadata": {},
   "outputs": [],
   "source": [
    "# What is the average price for a four-bedroom house sold for each year\n",
    "query1 = \"\"\"\n",
    "SELECT year, ROUND(AVG(price), 2) AS avg_price\n",
    "FROM home_sales\n",
    "WHERE bedrooms = 4\n",
    "GROUP BY year\n",
    "ORDER BY year\n",
    "\"\"\"\n",
    "\n",
    "avg_price_4_bedrooms = spark.sql(query1)\n",
    "avg_price_4_bedrooms.show()\n",
    "\n"
   ]
  },
  {
   "cell_type": "code",
   "execution_count": null,
   "id": "10f05cd5-b57c-45f2-adc0-633ce567ea47",
   "metadata": {},
   "outputs": [],
   "source": [
    "# What is the average price of a home for each year the home was built, that has three bedrooms and three bathrooms?\n",
    "query2 = \"\"\"\n",
    "SELECT year_built, ROUND(AVG(price), 2) AS avg_price\n",
    "FROM home_sales\n",
    "WHERE bedrooms = 3 AND bathrooms = 3\n",
    "GROUP BY year_built\n",
    "ORDER BY year_built\n",
    "\"\"\"\n",
    "\n",
    "avg_price_3_bed_3_bath = spark.sql(query2)\n",
    "avg_price_3_bed_3_bath.show()\n",
    "\n"
   ]
  },
  {
   "cell_type": "code",
   "execution_count": null,
   "id": "0278f768-fc0b-4b99-8bd1-ceb1f35e1eea",
   "metadata": {},
   "outputs": [],
   "source": [
    "# What is the average price of a home for each year the home was built, that has three bedrooms, three bathrooms, two floors, and is greater than or equal to 2,000 square feet?\n",
    "query3 = \"\"\"\n",
    "SELECT year_built, ROUND(AVG(price), 2) AS avg_price\n",
    "FROM home_sales\n",
    "WHERE bedrooms = 3 AND bathrooms = 3 AND floors = 2 AND area >= 2000\n",
    "GROUP BY year_built\n",
    "ORDER BY year_built\n",
    "\"\"\"\n",
    "\n",
    "avg_price_3_bed_3_bath_2_floors = spark.sql(query3)\n",
    "avg_price_3_bed_3_bath_2_floors.show()\n"
   ]
  },
  {
   "cell_type": "code",
   "execution_count": null,
   "id": "38383c0a-7fe8-4279-a5a0-131f2744599a",
   "metadata": {},
   "outputs": [],
   "source": [
    "# What is the average price of a home per \"view\" rating having an average home price greater than or equal to $350,000?\n",
    "\n",
    "query = \"\"\"\n",
    "SELECT view, ROUND(AVG(price), 2) AS avg_price\n",
    "FROM home_sales\n",
    "WHERE view IS NOT NULL AND price >= 350000\n",
    "GROUP BY view\n",
    "ORDER BY view\n",
    "\"\"\"\n",
    "avg_price_per_view = spark.sql(query)\n",
    "avg_price_per_view.show()\n"
   ]
  },
  {
   "cell_type": "code",
   "execution_count": null,
   "id": "bdb72df4-8a4f-4d39-9758-9fa46029dbde",
   "metadata": {},
   "outputs": [],
   "source": [
    "# Cache home_sales table\n",
    "spark.catalog.cacheTable(\"home_sales\")\n",
    "\n",
    "# Check \n",
    "is_cached = spark.catalog.isCached(\"home_sales\")\n",
    "print(\"Is home_sales cached:\", is_cached)\n",
    "\n"
   ]
  },
  {
   "cell_type": "code",
   "execution_count": null,
   "id": "6b7d3421-04de-4025-9031-75a0654476b7",
   "metadata": {},
   "outputs": [],
   "source": [
    "# Query the average price of a home per \"view\" rating using cached data\n",
    "query_cached = \"\"\"\n",
    "SELECT view, ROUND(AVG(price), 2) AS avg_price\n",
    "FROM home_sales\n",
    "WHERE view IS NOT NULL AND price >= 350000\n",
    "GROUP BY view\n",
    "ORDER BY view\n",
    "\"\"\"\n",
    "\n"
   ]
  },
  {
   "cell_type": "code",
   "execution_count": null,
   "id": "ca40c70a-19fc-4411-8eca-48e1cf79e78e",
   "metadata": {},
   "outputs": [],
   "source": [
    "# Run query w/ cached data and measure runtime\n",
    "start_time_cached = time.time()\n",
    "avg_price_per_view_cached = spark.sql(query_cached)\n",
    "avg_price_per_view_cached.show()\n",
    "end_time_cached = time.time()\n",
    "runtime_cached = end_time_cached - start_time_cached\n",
    "print(\"Runtime with cached data:\", runtime_cached, \"seconds\")\n",
    "\n",
    "# Partition by \"date_built\" \n",
    "parquet_file_path = \"path_to_save_parquet_files\"\n",
    "home_sales_df.write.partitionBy(\"date_built\").parquet(parquet_file_path)\n",
    "\n",
    "# Create a table for parquet data\n",
    "parquet_df = spark.read.parquet(parquet_file_path)\n",
    "parquet_df.createOrReplaceTempView(\"home_sales_parquet\")\n",
    "\n"
   ]
  },
  {
   "cell_type": "code",
   "execution_count": null,
   "id": "cd94d4c3-95fb-4165-a897-c87ee6202c89",
   "metadata": {},
   "outputs": [],
   "source": [
    "# Query to calculate average price of a home per \"view\" rating using Parquet data\n",
    "query_parquet = \"\"\"\n",
    "SELECT view, ROUND(AVG(price), 2) AS avg_price\n",
    "FROM home_sales_parquet\n",
    "WHERE view IS NOT NULL AND price >= 350000\n",
    "GROUP BY view\n",
    "ORDER BY view\n",
    "\"\"\"\n",
    "\n",
    "# Run the query and measure runtime\n",
    "start\n"
   ]
  }
 ],
 "metadata": {
  "kernelspec": {
   "display_name": "Python 3 (ipykernel)",
   "language": "python",
   "name": "python3"
  },
  "language_info": {
   "codemirror_mode": {
    "name": "ipython",
    "version": 3
   },
   "file_extension": ".py",
   "mimetype": "text/x-python",
   "name": "python",
   "nbconvert_exporter": "python",
   "pygments_lexer": "ipython3",
   "version": "3.11.5"
  }
 },
 "nbformat": 4,
 "nbformat_minor": 5
}
